{
 "cells": [
  {
   "cell_type": "code",
   "execution_count": 1,
   "id": "42942793-7420-488c-8945-d6edc4995640",
   "metadata": {},
   "outputs": [],
   "source": [
    "import os,shutil"
   ]
  },
  {
   "cell_type": "code",
   "execution_count": 13,
   "id": "4e3844ec-74d5-4106-b073-ecfe3b61ba38",
   "metadata": {},
   "outputs": [],
   "source": [
    "path = r\"D:/VS CODE/data analyst/File Sorter/\""
   ]
  },
  {
   "cell_type": "code",
   "execution_count": 19,
   "id": "9f967c12-e359-4cea-a4d0-034f9d066c23",
   "metadata": {},
   "outputs": [],
   "source": [
    "file_name = os.listdir(path)"
   ]
  },
  {
   "cell_type": "code",
   "execution_count": 15,
   "id": "e8d31ed2-cbff-4ca7-a099-9472f5cda939",
   "metadata": {},
   "outputs": [
    {
     "data": {
      "text/plain": [
       "False"
      ]
     },
     "execution_count": 15,
     "metadata": {},
     "output_type": "execute_result"
    }
   ],
   "source": [
    "os.path.exists(path + 'csv files')"
   ]
  },
  {
   "cell_type": "code",
   "execution_count": 25,
   "id": "55866144-3cc7-46b7-9d5b-2e3c4c5179c9",
   "metadata": {},
   "outputs": [],
   "source": [
    "folder_names = ['Csv Files','Image Files','Text Files']\n",
    "for loop in range(0,3):\n",
    "    if not os.path.exists(path + folder_names[loop]):\n",
    "        os.makedirs(path + folder_names[loop])"
   ]
  },
  {
   "cell_type": "code",
   "execution_count": 36,
   "id": "a0a5ee4d-7b92-48a6-9388-b01dafa4fc54",
   "metadata": {},
   "outputs": [
    {
     "name": "stdout",
     "output_type": "stream",
     "text": [
      "there are no suitable files to be moved\n",
      "there are no suitable files to be moved\n",
      "there are no suitable files to be moved\n",
      "there are no suitable files to be moved\n",
      "there are no suitable files to be moved\n",
      "there are no suitable files to be moved\n",
      "there are no suitable files to be moved\n",
      "there are no suitable files to be moved\n",
      "there are no suitable files to be moved\n"
     ]
    }
   ],
   "source": [
    "for file in file_name:\n",
    "    if \".csv\" in file and not os.path.exists(path +\"csv files/\" + file):\n",
    "        shutil.move((path + file),(path + \"csv files/\" + file))\n",
    "    elif \".png\" in file and not os.path.exists(path +\"image files/\" + file):\n",
    "        shutil.move((path + file),(path + \"image files/\" + file))\n",
    "    elif \".txt\" in file and not os.path.exists(path +\"text files/\" + file):\n",
    "        shutil.move((path + file),(path + \"text files/\" + file))\n",
    "    else:\n",
    "        print(\"there are no suitable files to be moved\")"
   ]
  },
  {
   "cell_type": "code",
   "execution_count": null,
   "id": "627776ec-1a5a-462c-ad6e-994fc9cb6cd5",
   "metadata": {},
   "outputs": [],
   "source": []
  }
 ],
 "metadata": {
  "kernelspec": {
   "display_name": "Python [conda env:base] *",
   "language": "python",
   "name": "conda-base-py"
  },
  "language_info": {
   "codemirror_mode": {
    "name": "ipython",
    "version": 3
   },
   "file_extension": ".py",
   "mimetype": "text/x-python",
   "name": "python",
   "nbconvert_exporter": "python",
   "pygments_lexer": "ipython3",
   "version": "3.11.7"
  }
 },
 "nbformat": 4,
 "nbformat_minor": 5
}
