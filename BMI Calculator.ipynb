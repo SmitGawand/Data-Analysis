{
 "cells": [
  {
   "cell_type": "markdown",
   "id": "3eb3976a-f34b-48a9-b476-d84253c29d2f",
   "metadata": {},
   "source": [
    "BMI CALCULATOR"
   ]
  },
  {
   "cell_type": "code",
   "execution_count": null,
   "id": "2532869d-27b5-43a1-bf42-71feb95a66e8",
   "metadata": {},
   "outputs": [],
   "source": [
    "#BMI = weight (kg) / (height (m) * height (m))"
   ]
  },
  {
   "cell_type": "code",
   "execution_count": 28,
   "id": "38e9e7b4-44ee-4328-8fcb-90e1054cb64a",
   "metadata": {},
   "outputs": [
    {
     "name": "stdin",
     "output_type": "stream",
     "text": [
      "Enter Your Name  neel\n",
      "Enter Your Weight In Kg:  95\n",
      "Enter Your Height In Metre:  1.79\n"
     ]
    },
    {
     "name": "stdout",
     "output_type": "stream",
     "text": [
      "29.64951156330951\n",
      "neel, you are in Obese Class II\n"
     ]
    }
   ],
   "source": [
    "Name = input(\"Enter Your Name \")\n",
    "Weight = int(input(\"Enter Your Weight In Kg: \"))\n",
    "Height = float(input(\"Enter Your Height In Metre: \"))\n",
    "BMI = Weight  / (Height * Height)\n",
    "print(BMI)\n",
    "\n",
    "if BMI>0: \n",
    "    if (BMI<16):\n",
    "        print(Name + \", you are Severely Thin\")\n",
    "    elif (BMI<=17):\n",
    "        print(Name + \", you are Moderately Thin\")\n",
    "    elif (BMI<=18.5):\n",
    "        print(Name + \", you are Normal\") \n",
    "    elif (BMI<=25):\n",
    "        print(Name + \", you are Overweight\")\n",
    "    elif (BMI<=17):\n",
    "        print(Name + \", you are in Obese Class I\")\n",
    "    elif (BMI<=17):\n",
    "        print(Name + \", you are in Obese Class II\")\n",
    "    else :\n",
    "        print(Name + \", you are in Obese Class II\")  \n",
    "else :\n",
    "    print(\"Enter Valid Input\")"
   ]
  },
  {
   "cell_type": "code",
   "execution_count": 13,
   "id": "5fbfa661-36ec-483f-8220-6a70bd6ef7bb",
   "metadata": {},
   "outputs": [
    {
     "data": {
      "text/plain": [
       "30.299204645878046"
      ]
     },
     "execution_count": 13,
     "metadata": {},
     "output_type": "execute_result"
    }
   ],
   "source": [
    "BMI\n"
   ]
  },
  {
   "cell_type": "code",
   "execution_count": null,
   "id": "4ebb3dd7-6e4e-4885-842b-cc6f0246fabd",
   "metadata": {},
   "outputs": [],
   "source": [
    "\n",
    "Classification\tBMI range - kg/m2\n",
    "Severe Thinness\t< 16\n",
    "Moderate Thinness\t16 - 17\n",
    "Mild Thinness\t17 - 18.5\n",
    "Normal\t18.5 - 25\n",
    "Overweight\t25 - 30\n",
    "Obese Class I\t30 - 35\n",
    "Obese Class II\t35 - 40\n",
    "Obese Class II\t> 40"
   ]
  },
  {
   "cell_type": "code",
   "execution_count": 27,
   "id": "826ea697-1cd5-4497-a089-5b1940623ebb",
   "metadata": {},
   "outputs": [
    {
     "name": "stdout",
     "output_type": "stream",
     "text": [
      "Smit, you are Obese Class II\n"
     ]
    }
   ],
   "source": [
    "if BMI>0: \n",
    "    if (BMI<16):\n",
    "        print(Name + \", you are Severely Thin\")\n",
    "    elif (BMI<=17):\n",
    "        print(Name + \", you are Moderately Thin\")\n",
    "    elif (BMI<=18.5):\n",
    "        print(Name + \", you are Normal\") \n",
    "    elif (BMI<=25):\n",
    "        print(Name + \", you are Overweight\")\n",
    "    elif (BMI<=17):\n",
    "        print(Name + \", you are in Obese Class I\")\n",
    "    elif (BMI<=17):\n",
    "        print(Name + \", you are in Obese Class II\")\n",
    "    else :\n",
    "        print(Name + \", you are in Obese Class II\")  \n",
    "else :\n",
    "    print(\"Enter Valid Input\")\n",
    "    "
   ]
  },
  {
   "cell_type": "code",
   "execution_count": null,
   "id": "87991c0b-ebb5-4b59-83bb-eb04142d9800",
   "metadata": {},
   "outputs": [],
   "source": []
  }
 ],
 "metadata": {
  "kernelspec": {
   "display_name": "Python [conda env:base] *",
   "language": "python",
   "name": "conda-base-py"
  },
  "language_info": {
   "codemirror_mode": {
    "name": "ipython",
    "version": 3
   },
   "file_extension": ".py",
   "mimetype": "text/x-python",
   "name": "python",
   "nbconvert_exporter": "python",
   "pygments_lexer": "ipython3",
   "version": "3.11.7"
  }
 },
 "nbformat": 4,
 "nbformat_minor": 5
}
