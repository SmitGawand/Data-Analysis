{
 "cells": [
  {
   "cell_type": "markdown",
   "id": "3eb3976a-f34b-48a9-b476-d84253c29d2f",
   "metadata": {},
   "source": [
    "BMI CALCULATOR"
   ]
  },
  {
   "cell_type": "code",
   "execution_count": null,
   "id": "2532869d-27b5-43a1-bf42-71feb95a66e8",
   "metadata": {},
   "outputs": [],
   "source": [
    "#BMI = weight (kg) / (height (m) * height (m))"
   ]
  },
  {
   "cell_type": "code",
   "execution_count": null,
   "id": "38e9e7b4-44ee-4328-8fcb-90e1054cb64a",
   "metadata": {},
   "outputs": [],
   "source": [
    "Name = input(\"Enter Your Name \")\n",
    "Weight = int(input(\"Enter Your Weight In Kg: \"))\n",
    "Height = float(input(\"Enter Your Height In Metre: \"))\n",
    "BMI = Weight  / (Height * Height)\n",
    "print(BMI)\n",
    "\n",
    "if BMI>0: \n",
    "    if (BMI<16):\n",
    "        print(Name + \", you are Severely Thin\")\n",
    "    elif (BMI<=17):\n",
    "        print(Name + \", you are Moderately Thin\")\n",
    "    elif (BMI<=18.5):\n",
    "        print(Name + \", you are Normal\") \n",
    "    elif (BMI<=25):\n",
    "        print(Name + \", you are Overweight\")\n",
    "    elif (BMI<=17):\n",
    "        print(Name + \", you are in Obese Class I\")\n",
    "    elif (BMI<=17):\n",
    "        print(Name + \", you are in Obese Class II\")\n",
    "    else :\n",
    "        print(Name + \", you are in Obese Class II\")  \n",
    "else :\n",
    "    print(\"Enter Valid Input\")"
   ]
  },
  {
   "cell_type": "code",
   "execution_count": null,
   "id": "5fbfa661-36ec-483f-8220-6a70bd6ef7bb",
   "metadata": {},
   "outputs": [],
   "source": [
    "\n"
   ]
  },
  {
   "cell_type": "code",
   "execution_count": null,
   "id": "4ebb3dd7-6e4e-4885-842b-cc6f0246fabd",
   "metadata": {},
   "outputs": [],
   "source": []
  },
  {
   "cell_type": "code",
   "execution_count": null,
   "id": "826ea697-1cd5-4497-a089-5b1940623ebb",
   "metadata": {},
   "outputs": [],
   "source": [
    "\n",
    "    "
   ]
  },
  {
   "cell_type": "code",
   "execution_count": null,
   "id": "87991c0b-ebb5-4b59-83bb-eb04142d9800",
   "metadata": {},
   "outputs": [],
   "source": []
  }
 ],
 "metadata": {
  "kernelspec": {
   "display_name": "Python [conda env:base] *",
   "language": "python",
   "name": "conda-base-py"
  },
  "language_info": {
   "codemirror_mode": {
    "name": "ipython",
    "version": 3
   },
   "file_extension": ".py",
   "mimetype": "text/x-python",
   "name": "python",
   "nbconvert_exporter": "python",
   "pygments_lexer": "ipython3",
   "version": "3.11.7"
  }
 },
 "nbformat": 4,
 "nbformat_minor": 5
}
